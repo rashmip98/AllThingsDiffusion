{
  "nbformat": 4,
  "nbformat_minor": 0,
  "metadata": {
    "colab": {
      "provenance": [],
      "gpuType": "T4"
    },
    "kernelspec": {
      "name": "python3",
      "display_name": "Python 3"
    },
    "language_info": {
      "name": "python"
    },
    "accelerator": "GPU"
  },
  "cells": [
    {
      "cell_type": "markdown",
      "source": [
        "# **Denoising Diffusion Probabilistic Models**\n",
        "\n",
        "This notebook is going to contain code for all the components needed. For an explanation of the math, please refer to the excellent [blog](https://lilianweng.github.io/posts/2021-07-11-diffusion-models/) by Lilian Weng.\n",
        "\n",
        "The structure is going to be intuition of the working followed by blocks of code of all the components needed. Refer to the original paper [here](https://arxiv.org/abs/2006.11239).\n",
        "\n",
        "\n",
        "The crux of the working is that we use a UNet model to predict the amount of noise in a noisy image. The noise is added to the images using a scheduler where each timestep denotes how much noise to add to the image. You send in the noisy image with timestep encoded and the UNet predicts the noise. The loss is between the real noise and the generated noise. During inference, we simply need to subtract this predicted noise from the input, so to speak, to get a meaningful image."
      ],
      "metadata": {
        "id": "GYQeFG9S2bw2"
      }
    },
    {
      "cell_type": "code",
      "source": [
        "import torch.nn as nn\n",
        "import torch\n",
        "import numpy\n",
        "import math\n",
        "import torch.optim as optim\n",
        "from torchvision import datasets, transforms\n",
        "import matplotlib.pyplot as plt"
      ],
      "metadata": {
        "id": "1jS1DUkPQdBv"
      },
      "execution_count": 1,
      "outputs": []
    },
    {
      "cell_type": "markdown",
      "source": [
        "### UNet\n",
        "\n",
        "The original UNet model paper can be found [here](https://arxiv.org/abs/1505.04597). For DDPM, we change the original structure by adding timestep embeddings and architectural changes like adding attention. I've skipped the attention layer implementation in this implementation but the comments will show where the attention block should've come."
      ],
      "metadata": {
        "id": "MKHpWcpXo9-r"
      }
    },
    {
      "cell_type": "code",
      "source": [
        "## Downsample step that downsamples feature maps by 2 in the left path of the UNet\n",
        "## a design choice is choosing maxpooling or a convolutional layer with stride 2 to do the downsampling - on one hand\n",
        "## a convolutional layer has weights that can learn important features while downsampling but it is also slightly more\n",
        "## computationally expensive. Maxpooling adds non-linearity to the model but it is a fixed function so no learning but\n",
        "## no weights mean it is cheaper. I've chosen maxpooling because of computation.\n",
        "\n",
        "class DownSample(nn.Module):\n",
        "  def __init__(self):\n",
        "    super().__init__()\n",
        "    self.down = nn.MaxPool2d(2)\n",
        "\n",
        "  def forward(self, x: torch.Tensor, t: torch.Tensor): # t is the timestep embedding which we include in the forward here to make it uniform so the class can be used in a ModuleList\n",
        "    return self.down(x)"
      ],
      "metadata": {
        "id": "yifMF270Q7_1"
      },
      "execution_count": 120,
      "outputs": []
    },
    {
      "cell_type": "code",
      "source": [
        "## Upsample step that upsamples feature maps by 2 in the right path of the UNet\n",
        "\n",
        "class UpSample(nn.Module):\n",
        "  def __init__(self, in_channels: int):\n",
        "    super().__init__()\n",
        "    self.up = nn.ConvTranspose2d(in_channels, in_channels, (4,4), (2,2), (1,1))\n",
        "\n",
        "  def forward(self, x: torch.Tensor, t: torch.Tensor): # t is the timestep embedding which we include in the forward here to make it uniform so the class can be used in a ModuleList\n",
        "    return self.up(x)"
      ],
      "metadata": {
        "id": "dS7VWDI-UTiY"
      },
      "execution_count": 121,
      "outputs": []
    },
    {
      "cell_type": "code",
      "source": [
        "## Timestep embedding which is done in a similar way to the positional encodings used in Transformers and then transformed through linear layers\n",
        "\n",
        "class TimeStepEncoder(nn.Module):\n",
        "  def __init__(self, embed_dim: int):\n",
        "    super().__init__()\n",
        "    self.dim = embed_dim\n",
        "\n",
        "    self.layer1 = nn.Linear(self.dim//4, self.dim)\n",
        "    self.layer2 = nn.Linear(self.dim, self.dim)\n",
        "    self.swish = nn.SiLU()\n",
        "\n",
        "  def forward(self, x: torch.Tensor):\n",
        "\n",
        "    # positional encoding\n",
        "    emb = math.log(10000) / (self.dim // 8 - 1)\n",
        "    emb = torch.exp(torch.arange(self.dim // 8, device=x.device) * -emb)\n",
        "    emb = x[:, None] * emb[None, :]\n",
        "    emb = torch.cat((emb.sin(), emb.cos()), dim=1)\n",
        "\n",
        "    # transformation\n",
        "    emb = self.layer2(self.swish(self.layer1(emb)))\n",
        "\n",
        "    return emb"
      ],
      "metadata": {
        "id": "56tABUteVQNR"
      },
      "execution_count": 122,
      "outputs": []
    },
    {
      "cell_type": "code",
      "source": [
        "## Unet blocks which is one feature level in the left & right paths of the UNet made of residual block structure\n",
        "## In the original paper, the block was residual block followed by attention\n",
        "## The main difference between the left and right paths is that for the right path, the in channels will actually be in_ch+out_ch due to the residual connections between the two paths\n",
        "\n",
        "class UBlock(nn.Module):\n",
        "  def __init__(self, in_ch: int, out_ch: int, embed_dim: int, n_g: int = 16, dropout: float = 0.1):\n",
        "    super().__init__()\n",
        "\n",
        "    self.groupnorm1 = nn.GroupNorm(n_g, in_ch)\n",
        "    self.swish1 = nn.SiLU()\n",
        "    self.conv1 = nn.Conv2d(in_ch, out_ch, kernel_size = 3, padding = 1)\n",
        "\n",
        "    self.linear = nn.Linear(embed_dim,out_ch)\n",
        "    self.swish2 = nn.SiLU()\n",
        "\n",
        "    self.groupnorm2 = nn.GroupNorm(n_g, out_ch)\n",
        "    self.swish3 = nn.SiLU()\n",
        "    self.conv2 = nn.Conv2d(out_ch, out_ch, kernel_size=3, padding=1)\n",
        "\n",
        "    self.dropout = nn.Dropout(dropout)\n",
        "\n",
        "    if in_ch == out_ch:\n",
        "      self.res_connection = nn.Identity()\n",
        "    else:\n",
        "      self.res_connection = nn.Conv2d(in_ch, out_ch, kernel_size = 1)\n",
        "\n",
        "  def forward(self, x: torch.Tensor, t: torch.Tensor):\n",
        "\n",
        "    k = self.conv1(self.swish1(self.groupnorm1(x)))\n",
        "\n",
        "    t = self.swish2(self.linear(t))\n",
        "\n",
        "    # concat the timestep embedding\n",
        "    k +=  t[:,:,None, None]\n",
        "\n",
        "    k = self.conv2(self.dropout(self.swish3(self.groupnorm2(k))))\n",
        "\n",
        "    k += self.res_connection(x)\n",
        "\n",
        "    return k"
      ],
      "metadata": {
        "id": "TOKZhHtkaSHz"
      },
      "execution_count": 123,
      "outputs": []
    },
    {
      "cell_type": "code",
      "source": [
        "## combine all the blocks for the unified UNet architecture\n",
        "\n",
        "class UNet(nn.Module):\n",
        "\n",
        "  def __init__(self, ip_ch: int = 3, num_ch: int = 64, res: list = [1,2,2,4]):\n",
        "    super().__init__()\n",
        "\n",
        "    self.t_encoder = TimeStepEncoder(num_ch*4)\n",
        "    self.img_transform = nn.Conv2d(ip_ch, num_ch, kernel_size=3, padding=1)\n",
        "\n",
        "    in_ch = num_ch\n",
        "\n",
        "    left = []\n",
        "    for i in range(len(res)):\n",
        "      out_ch = in_ch*res[i]\n",
        "      # print(in_ch, out_ch)\n",
        "      left.append(UBlock(in_ch, out_ch, num_ch*4))\n",
        "\n",
        "      in_ch = out_ch\n",
        "\n",
        "      if i < (len(res)-1):\n",
        "        left.append(DownSample())\n",
        "\n",
        "    self.left_unet = nn.ModuleList(left)\n",
        "\n",
        "    self.lowest = UBlock(in_ch, in_ch,num_ch*4)\n",
        "\n",
        "    in_ch = out_ch\n",
        "\n",
        "    right = []\n",
        "    for i in reversed(range(len(res))):\n",
        "      out_ch = in_ch\n",
        "\n",
        "      right.append(UBlock(in_ch+out_ch, out_ch, num_ch * 4))\n",
        "\n",
        "      out_ch = in_ch // res[i]\n",
        "      # print(in_ch, out_ch)\n",
        "      # print(in_ch+out_ch)\n",
        "      right.append(UBlock(in_ch+out_ch, out_ch, num_ch * 4))\n",
        "\n",
        "      in_ch = out_ch\n",
        "\n",
        "      if i > 0:\n",
        "        right.append(UpSample(in_ch))\n",
        "\n",
        "    self.right_unet = nn.ModuleList(right)\n",
        "\n",
        "    self.norm = nn.GroupNorm(8, num_ch)\n",
        "    self.act = nn.SiLU()\n",
        "    self.final = nn.Conv2d(in_ch, ip_ch, kernel_size=3, padding=1)\n",
        "\n",
        "  def forward(self, x: torch.Tensor, t: torch.Tensor):\n",
        "\n",
        "    x = self.img_transform(x)\n",
        "    t = self.t_encoder(t)\n",
        "\n",
        "    ip_list = [x]\n",
        "\n",
        "    for layer in self.left_unet:\n",
        "      # print(x.shape)\n",
        "      x = layer(x,t)\n",
        "      ip_list.append(x)\n",
        "\n",
        "    x = self.lowest(x,t)\n",
        "\n",
        "    for layer in self.right_unet:\n",
        "      if isinstance(layer,UpSample):\n",
        "        x = layer(x,t)\n",
        "      else:\n",
        "        x_cat = ip_list.pop()\n",
        "\n",
        "        x = torch.cat((x,x_cat), dim=1)\n",
        "\n",
        "        x = layer(x,t)\n",
        "\n",
        "    x = self.final(self.act(self.norm(x)))\n",
        "\n",
        "    return x"
      ],
      "metadata": {
        "id": "2gmeaAEY6cqo"
      },
      "execution_count": 124,
      "outputs": []
    },
    {
      "cell_type": "markdown",
      "source": [
        "### Putting together final model\n",
        "\n",
        "The variables like beta, alpha, alpha_bar are calculated exactly like how the equations are in the paper and the q_sample and p_sample steps re also just python implementations of the equations."
      ],
      "metadata": {
        "id": "caxDsTW5dyOO"
      }
    },
    {
      "cell_type": "code",
      "source": [
        "class DDPM(nn.Module):\n",
        "  def __init__(self, unet, steps: int, device: torch.device, beta_min: int = 0.0001, beta_max: int = 0.02):\n",
        "    super().__init__()\n",
        "\n",
        "    self.unet = unet\n",
        "\n",
        "    # fixed linear variance schedule\n",
        "    self.beta = torch.linspace(beta_min, beta_max, steps).to(device)\n",
        "\n",
        "    self.alpha = 1 - self.beta\n",
        "\n",
        "    self.alpha_bar = torch.cumprod(self.alpha, dim=0)\n",
        "\n",
        "    self.steps = steps\n",
        "\n",
        "    self.sigma_square = self.beta\n",
        "\n",
        "  def q_sample(self, x_0: torch.Tensor, t: torch.Tensor, eps = None):\n",
        "    if eps is None:\n",
        "      eps = torch.randn_like(x_0)\n",
        "\n",
        "    temp = self.alpha_bar.gather(-1,t).reshape(-1,1,1,1)\n",
        "    mean = temp**0.5 * x_0\n",
        "\n",
        "    var = 1 - temp\n",
        "\n",
        "    x_t = mean + var**0.5 * eps\n",
        "\n",
        "    return x_t\n",
        "\n",
        "  def p_sample(self, x_t: torch.Tensor, t: torch.Tensor):\n",
        "\n",
        "    noise_learned = self.unet(x_t, t)\n",
        "    alpha_bar = self.alpha_bar.gather(-1,t).reshape(-1,1,1,1)\n",
        "    alpha = self.alpha.gather(-1,t).reshape(-1,1,1,1)\n",
        "    noise_coef = (1 - alpha) / (1 - alpha_bar) ** 0.5\n",
        "    mean = 1 / (alpha ** 0.5) * (x_t - noise_coef * noise_learned)\n",
        "    var = self.sigma_square.gather(-1,t).reshape(-1,1,1,1)\n",
        "\n",
        "    noise = torch.randn_like(x_t)\n",
        "\n",
        "    p_t = mean + var**0.5 * noise\n",
        "\n",
        "    return p_t\n",
        "\n",
        "  def loss(self, x_0: torch.Tensor, noise=None):\n",
        "    b_s = x_0.shape[0]\n",
        "\n",
        "    t = torch.randint(0,self.steps, (b_s,), device=x_0.device)\n",
        "\n",
        "    if noise is None:\n",
        "      noise = torch.randn_like(x_0)\n",
        "\n",
        "    x_t = self.q_sample(x_0,t,noise)\n",
        "\n",
        "    noise_learned = self.unet(x_t,t)\n",
        "\n",
        "    loss = torch.nn.functional.mse_loss(noise, noise_learned)\n",
        "\n",
        "    return loss"
      ],
      "metadata": {
        "id": "pb54VeVWdlGj"
      },
      "execution_count": 125,
      "outputs": []
    },
    {
      "cell_type": "markdown",
      "source": [
        "### Training Script"
      ],
      "metadata": {
        "id": "T2OXzip7lNmA"
      }
    },
    {
      "cell_type": "code",
      "source": [
        "epochs = 500\n",
        "steps = 100\n",
        "batch_size = 4\n",
        "img_size = 32\n",
        "img_ch = 1\n",
        "lr = 0.00002\n",
        "device = 'cuda' if torch.cuda.is_available() else \"cpu\""
      ],
      "metadata": {
        "id": "3adE4fV6rRdc"
      },
      "execution_count": 207,
      "outputs": []
    },
    {
      "cell_type": "code",
      "source": [
        "print(device)"
      ],
      "metadata": {
        "colab": {
          "base_uri": "https://localhost:8080/"
        },
        "id": "3kzm5U8TyY6T",
        "outputId": "7076d4f4-3da3-49bb-f449-1c855951e5c4"
      },
      "execution_count": 208,
      "outputs": [
        {
          "output_type": "stream",
          "name": "stdout",
          "text": [
            "cuda\n"
          ]
        }
      ]
    },
    {
      "cell_type": "code",
      "execution_count": 209,
      "metadata": {
        "id": "pl2lCLSx2Ywt"
      },
      "outputs": [],
      "source": [
        "transform = transforms.Compose((transforms.Resize(img_size),transforms.ToTensor()))\n",
        "trainset = datasets.FashionMNIST('~/pytorch/F_MNIST_data', download=True,train=True,transform=transform)\n",
        "# testset = datasets.FashionMNIST('~/pytorch/F_MNIST_data', download=True,train=False,transform=transforms.ToTensor())"
      ]
    },
    {
      "cell_type": "code",
      "source": [
        "import random"
      ],
      "metadata": {
        "id": "eFjDdjuVCi3N"
      },
      "execution_count": 210,
      "outputs": []
    },
    {
      "cell_type": "code",
      "source": [
        "## overfit on 500 samples for sanity check, faster training\n",
        "tset = torch.utils.data.Subset(trainset, random.sample(range(1,60000), 500))"
      ],
      "metadata": {
        "id": "8tgR-8oUB9e9"
      },
      "execution_count": 211,
      "outputs": []
    },
    {
      "cell_type": "code",
      "source": [
        "trainloader = torch.utils.data.DataLoader(tset, batch_size=batch_size, shuffle=True)"
      ],
      "metadata": {
        "id": "R_7Q7kqcA-2N"
      },
      "execution_count": 212,
      "outputs": []
    },
    {
      "cell_type": "code",
      "source": [
        "len(trainset), len(tset)"
      ],
      "metadata": {
        "colab": {
          "base_uri": "https://localhost:8080/"
        },
        "id": "5SBgSljWAw6b",
        "outputId": "b1812bb7-e718-49d2-da68-ead2bc422032"
      },
      "execution_count": 213,
      "outputs": [
        {
          "output_type": "execute_result",
          "data": {
            "text/plain": [
              "(60000, 500)"
            ]
          },
          "metadata": {},
          "execution_count": 213
        }
      ]
    },
    {
      "cell_type": "code",
      "source": [
        "unet = UNet(ip_ch=img_ch).to(device)"
      ],
      "metadata": {
        "id": "NaxggFxoszYj"
      },
      "execution_count": 214,
      "outputs": []
    },
    {
      "cell_type": "code",
      "source": [
        "ddpm_model = DDPM(unet=unet,steps=steps,device=device)"
      ],
      "metadata": {
        "id": "UGzvh5nusUdH"
      },
      "execution_count": 215,
      "outputs": []
    },
    {
      "cell_type": "code",
      "source": [
        "optimizer = optim.Adam(unet.parameters(), lr=lr)"
      ],
      "metadata": {
        "id": "3PbX8-PUs3KE"
      },
      "execution_count": 216,
      "outputs": []
    },
    {
      "cell_type": "code",
      "source": [
        "def plot_img(img,epoch):\n",
        "  img = img.cpu().numpy()\n",
        "  print(img.max(), img.min())\n",
        "  for i in range(img.shape[0]):\n",
        "    plt.imshow(img[i][0],cmap='gray')\n",
        "    plt.title(\"Generation at epoch \"+str(epoch))"
      ],
      "metadata": {
        "id": "efsS7x6ewoZL"
      },
      "execution_count": 217,
      "outputs": []
    },
    {
      "cell_type": "code",
      "source": [
        "final_loss = []\n",
        "\n",
        "for epoch in range(epochs):\n",
        "  train_loss = []\n",
        "  for i, (img,tgt) in enumerate(trainloader):\n",
        "    img = img.to(device)\n",
        "\n",
        "    optimizer.zero_grad()\n",
        "\n",
        "    loss = ddpm_model.loss(img)\n",
        "\n",
        "    loss.backward()\n",
        "\n",
        "    optimizer.step()\n",
        "    train_loss.append(loss.item())\n",
        "  final_loss.append(sum(train_loss)/len(train_loss))\n",
        "  print('Epoch done '+str(epoch))"
      ],
      "metadata": {
        "id": "-4DpiVjstPf4"
      },
      "execution_count": null,
      "outputs": []
    },
    {
      "cell_type": "code",
      "source": [
        "plt.plot(final_loss)\n",
        "plt.title('Training Loss Curve')"
      ],
      "metadata": {
        "colab": {
          "base_uri": "https://localhost:8080/",
          "height": 469
        },
        "id": "x7aJAhQyF2D-",
        "outputId": "734a2a01-1a5a-4886-e91c-0769d8a902b9"
      },
      "execution_count": 219,
      "outputs": [
        {
          "output_type": "execute_result",
          "data": {
            "text/plain": [
              "Text(0.5, 1.0, 'Training Loss Curve')"
            ]
          },
          "metadata": {},
          "execution_count": 219
        },
        {
          "output_type": "display_data",
          "data": {
            "text/plain": [
              "<Figure size 640x480 with 1 Axes>"
            ],
            "image/png": "[encoded data removed]"
          },
          "metadata": {}
        }
      ]
    },
    {
      "cell_type": "code",
      "source": [
        "## Random generation after training\n",
        "with torch.no_grad():\n",
        "    x = torch.randn([4, img_ch, img_size, img_size], device=device)\n",
        "\n",
        "    for j in range(steps):\n",
        "      t = steps - j - 1\n",
        "\n",
        "      x = ddpm_model.p_sample(x, x.new_full((4,), t, dtype=torch.int64))\n",
        "\n",
        "    plot_img(x,epoch)"
      ],
      "metadata": {
        "colab": {
          "base_uri": "https://localhost:8080/",
          "height": 469
        },
        "id": "Se5cuA-U_jOC",
        "outputId": "06cdb3d6-2d9f-4942-b4ef-3c44557b8933"
      },
      "execution_count": 220,
      "outputs": [
        {
          "output_type": "stream",
          "name": "stdout",
          "text": [
            "1.0275241 -0.041741293\n"
          ]
        },
        {
          "output_type": "display_data",
          "data": {
            "text/plain": [
              "<Figure size 640x480 with 1 Axes>"
            ],
            "image/png": "[encoded data removed]"
          },
          "metadata": {}
        }
      ]
    }
  ]
}